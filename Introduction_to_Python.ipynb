{
  "nbformat": 4,
  "nbformat_minor": 0,
  "metadata": {
    "colab": {
      "name": "Introduction-to-Python.ipynb",
      "provenance": [],
      "collapsed_sections": [],
      "authorship_tag": "ABX9TyM1TOCvKULseSpJXKPYKIow",
      "include_colab_link": true
    },
    "kernelspec": {
      "name": "python3",
      "display_name": "Python 3"
    }
  },
  "cells": [
    {
      "cell_type": "markdown",
      "metadata": {
        "id": "view-in-github",
        "colab_type": "text"
      },
      "source": [
        "<a href=\"https://colab.research.google.com/github/leadcitycoding/python-for-web-dev/blob/main/Introduction_to_Python.ipynb\" target=\"_parent\"><img src=\"https://colab.research.google.com/assets/colab-badge.svg\" alt=\"Open In Colab\"/></a>"
      ]
    },
    {
      "cell_type": "markdown",
      "metadata": {
        "id": "ij_95ph8Qqxu"
      },
      "source": [
        "# A quick introduction to Python\n",
        "\n",
        "The purpose of this notebook is to provide a direct introduction to the Python programming language. The core concepts needed to gain familiarity will be approached. Details might be lacking in certain regards, yet where necessary links to external learning resources will be included."
      ]
    },
    {
      "cell_type": "code",
      "metadata": {
        "id": "5oglzpBeQvYN",
        "outputId": "53873e1c-8ee9-47cd-dc5d-b01740d7f331",
        "colab": {
          "base_uri": "https://localhost:8080/"
        }
      },
      "source": [
        "variable = \"Hello world!\"\n",
        "print(variable)"
      ],
      "execution_count": 1,
      "outputs": [
        {
          "output_type": "stream",
          "text": [
            "Hello world!\n"
          ],
          "name": "stdout"
        }
      ]
    },
    {
      "cell_type": "markdown",
      "metadata": {
        "id": "Uq36BlrhQ09n"
      },
      "source": [
        "What we have above are two things: a variable declaration and a print statement. A variable is a way to store information while programming. In our case, we stored the string `Hello world!`. Print statements produce output that can be helpful when building out programs. The `print` statement above, returns the value of the `variable` immediately after it is declared."
      ]
    },
    {
      "cell_type": "markdown",
      "metadata": {
        "id": "h7Fs_IMMQ_Ok"
      },
      "source": [
        "## A bit more on Variables\n",
        "\n",
        "As mentioned earlier, variables are used to hold information used while programming. To address this in detail, variables stored data to be used in the implementation of algorithms, often working with varying data structures.\n",
        "\n",
        "Variables can hold a number of data types. Some of these are:\n",
        "\n",
        "- Numbers (eg. `124`)\n",
        "- Strings (eg. `Something`)\n",
        "- Booleans (`True`/`False`)\n",
        "\n",
        "Variables can also hold other variables - as well as a combination of calculations. Aliasing means that the secondary variable created simply copies the value of the primary variable created.\n",
        "\n",
        "The concepts described above are\n",
        " highlighted in code block below:"
      ]
    },
    {
      "cell_type": "code",
      "metadata": {
        "id": "BzZ-WZqnRCWd",
        "outputId": "77586e70-9bb0-4348-f594-bd9058ea54ba",
        "colab": {
          "base_uri": "https://localhost:8080/"
        }
      },
      "source": [
        "# variable assignment\n",
        "one = 1\n",
        "print(one)\n",
        "\n",
        "# performing arithmetic with variable value\n",
        "two = one + 1\n",
        "print(two)\n",
        "\n",
        "# storing strings in variables\n",
        "star = \"Star!\"\n",
        "space = \" \"\n",
        "\n",
        "# creating a variable alias\n",
        "two_copy = two\n",
        "print(\"Copy:\", two_copy)  # you can also add multiple arguments separated by a comma in a print statement\n",
        "\n",
        "# joining numbers and string in variables\n",
        "two_star = str(two) + space + star  # note that you would have to change the type of variable holding a number to string\n",
        "print(two_star)"
      ],
      "execution_count": 2,
      "outputs": [
        {
          "output_type": "stream",
          "text": [
            "1\n",
            "2\n",
            "Copy: 2\n",
            "2 Star!\n"
          ],
          "name": "stdout"
        }
      ]
    },
    {
      "cell_type": "markdown",
      "metadata": {
        "id": "Kyy6GoO1SMkr"
      },
      "source": [
        "## Logical conditions in Python\n",
        "\n",
        "Programming works in many ways like things do in the real world. Certain actions are governed by decisions, and based of those decisions, relevants results are cerated. In the Python programming language, some common methods of implementing decision-making are through `if ... else` and`if ... elif ... else` statements.\n",
        "\n",
        "`if ... else` conditionals are largely straight forward. In the case that the code with the `if` block fails, the `else` block's code is triggered.\n",
        "\n",
        "For example:"
      ]
    },
    {
      "cell_type": "code",
      "metadata": {
        "id": "7-2Ur0OITOIq",
        "outputId": "ce82b769-53cd-4419-83a3-daec9d2d6215",
        "colab": {
          "base_uri": "https://localhost:8080/"
        }
      },
      "source": [
        "# triggering if block\n",
        "hungry = True\n",
        "\n",
        "if hungry:\n",
        "  print(\"I am hungry.\")\n",
        "else:\n",
        "  print(\"I am not hungry.\")\n",
        "\n",
        "\n",
        "# triggering else block\n",
        "time = 1923\n",
        "\n",
        "if time < 1900:\n",
        "  print(\"Not time for dinner yet.\")\n",
        "else:\n",
        "  print(\"Time for dinner.\")"
      ],
      "execution_count": 10,
      "outputs": [
        {
          "output_type": "stream",
          "text": [
            "I am hungry.\n",
            "Time for dinner.\n"
          ],
          "name": "stdout"
        }
      ]
    },
    {
      "cell_type": "markdown",
      "metadata": {
        "id": "1uW0TALITNjG"
      },
      "source": [
        "`if ... elif ... else` conditionals function quite similarly to that above. The only difference is that they can contain as main `elif` blocks as is necessary. The `elif` block, is short form for \"else if\". This is used to trigger action in the case that previous blocks fail. Only when all the \"if\" and \"elif\" blocks fail, will the \"else\" block be triggered."
      ]
    },
    {
      "cell_type": "code",
      "metadata": {
        "id": "Hf4g_hh0VtCN",
        "outputId": "3a44db59-915a-4731-9296-f60b101b143b",
        "colab": {
          "base_uri": "https://localhost:8080/"
        }
      },
      "source": [
        "ask = True\n",
        "time = 1923\n",
        "\n",
        "if not ask:\n",
        "  print(\"Dinner?\")\n",
        "elif time > 1900:\n",
        "  print(\"Time for dinner.\")\n",
        "else:\n",
        "  print(\"Drink water!\")"
      ],
      "execution_count": 16,
      "outputs": [
        {
          "output_type": "stream",
          "text": [
            "Time for dinner.\n"
          ],
          "name": "stdout"
        }
      ]
    },
    {
      "cell_type": "markdown",
      "metadata": {
        "id": "9VaXSkn9Vsxx"
      },
      "source": [
        "In the code snippet above, the logical operator `not` was included. This transforms the value of a variable and triggers necessary operations. In the code above, it helps the \"if\" statement check for the opposite of the variable's value (True), and as it is not present, proceeds to the \"elif\" block of code. With the \"elif\" statement being correct, the code does not progress to the \"else\" block."
      ]
    },
    {
      "cell_type": "markdown",
      "metadata": {
        "id": "b5uJNJrqYFhA"
      },
      "source": [
        ""
      ]
    }
  ]
}